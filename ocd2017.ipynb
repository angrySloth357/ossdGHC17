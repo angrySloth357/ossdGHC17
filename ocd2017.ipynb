{
 "cells": [
  {
   "cell_type": "markdown",
   "metadata": {},
   "source": [
    "Here we mapped provices where Bread is expensive and cheap based on Data from: https://data.humdata.org/dataset/wfp-food-prices\n",
    "\n",
    "The dataset was renamed as 'dataset.csv'"
   ]
  },
  {
   "cell_type": "code",
   "execution_count": null,
   "metadata": {
    "collapsed": true
   },
   "outputs": [],
   "source": [
    "import pandas as pd\n",
    "data = pd.read_csv('dataset.csv', encoding ='latin1')"
   ]
  },
  {
   "cell_type": "code",
   "execution_count": null,
   "metadata": {
    "collapsed": true
   },
   "outputs": [],
   "source": [
    "#get countries\n",
    "countries = data['adm0_name'].unique()\n"
   ]
  },
  {
   "cell_type": "code",
   "execution_count": null,
   "metadata": {
    "collapsed": true
   },
   "outputs": [],
   "source": [
    "#Function that returns Max/Min cities for food\n",
    "def getCity(food):\n",
    "    l = []\n",
    "    for c in countries:\n",
    "        x = data[ (data['adm0_name']==c) & (data['mp_year']==2014) & (data['cm_name']==food) ]\n",
    "        if x.empty:\n",
    "            continue\n",
    "        max_price = max(x['mp_price'])\n",
    "        min_price = min(x['mp_price'])\n",
    "        max_province = x[(x['mp_price']==max_price)]['adm1_name'].unique()[0]\n",
    "        min_province = x[(x['mp_price']==min_price)]['adm1_name'].unique()[0]    \n",
    "        if (not pd.isnull(max_province)) and (not pd.isnull(min_province)):\n",
    "            print (max_province, min_province)\n",
    "            if max_province=='Badakhshoni Kuhi':\n",
    "                continue\n",
    "            max_province = geolocator.geocode(max_province)\n",
    "            min_province = geolocator.geocode(min_province)\n",
    "            \n",
    "            max_province = (max_province.latitude, max_province.longitude)\n",
    "            min_province = (min_province.latitude, min_province.longitude)\n",
    "            l.append((max_province, min_province))\n",
    "    return l   "
   ]
  }
 ],
 "metadata": {
  "anaconda-cloud": {},
  "kernelspec": {
   "display_name": "Python [default]",
   "language": "python",
   "name": "python3"
  },
  "language_info": {
   "codemirror_mode": {
    "name": "ipython",
    "version": 3
   },
   "file_extension": ".py",
   "mimetype": "text/x-python",
   "name": "python",
   "nbconvert_exporter": "python",
   "pygments_lexer": "ipython3",
   "version": "3.5.2"
  }
 },
 "nbformat": 4,
 "nbformat_minor": 1
}
